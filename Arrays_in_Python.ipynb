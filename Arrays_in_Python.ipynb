{
  "nbformat": 4,
  "nbformat_minor": 0,
  "metadata": {
    "kernelspec": {
      "display_name": "Python 3",
      "language": "python",
      "name": "python3"
    },
    "language_info": {
      "codemirror_mode": {
        "name": "ipython",
        "version": 3
      },
      "file_extension": ".py",
      "mimetype": "text/x-python",
      "name": "python",
      "nbconvert_exporter": "python",
      "pygments_lexer": "ipython3",
      "version": "3.8.3"
    },
    "colab": {
      "name": "Arrays in Python.ipynb",
      "provenance": [],
      "include_colab_link": true
    }
  },
  "cells": [
    {
      "cell_type": "markdown",
      "metadata": {
        "id": "view-in-github",
        "colab_type": "text"
      },
      "source": [
        "<a href=\"https://colab.research.google.com/github/puseletso/2018-apps/blob/master/Arrays_in_Python.ipynb\" target=\"_parent\"><img src=\"https://colab.research.google.com/assets/colab-badge.svg\" alt=\"Open In Colab\"/></a>"
      ]
    },
    {
      "cell_type": "markdown",
      "metadata": {
        "id": "4K5Wb0xrwTwx"
      },
      "source": [
        "<hr style=\"border:5px solid #108999\"> </hr>"
      ]
    },
    {
      "cell_type": "markdown",
      "metadata": {
        "id": "-MG_4pt9wTw0"
      },
      "source": [
        "# Declaring scalars, vectors, and matrices <hr style=\"border:4.5px solid #108999\"> </hr>"
      ]
    },
    {
      "cell_type": "markdown",
      "metadata": {
        "id": "9XA4IROIwTw1"
      },
      "source": [
        "## Import the relevant libraries"
      ]
    },
    {
      "cell_type": "code",
      "metadata": {
        "id": "KJp83hQzwTw2"
      },
      "source": [
        "import numpy as np"
      ],
      "execution_count": 1,
      "outputs": []
    },
    {
      "cell_type": "markdown",
      "metadata": {
        "id": "hApXwhaVwTw2"
      },
      "source": [
        "## Scalars"
      ]
    },
    {
      "cell_type": "code",
      "metadata": {
        "id": "K6W4z_TywTw3"
      },
      "source": [
        "s = 5"
      ],
      "execution_count": 2,
      "outputs": []
    },
    {
      "cell_type": "code",
      "metadata": {
        "id": "93F6DCtBwTw3"
      },
      "source": [
        "s"
      ],
      "execution_count": null,
      "outputs": []
    },
    {
      "cell_type": "markdown",
      "metadata": {
        "id": "GGUbi87dwTw3"
      },
      "source": [
        "## Vectors"
      ]
    },
    {
      "cell_type": "code",
      "metadata": {
        "id": "c9891KEuwTw3"
      },
      "source": [
        "v = np.array([5,-2,4])"
      ],
      "execution_count": null,
      "outputs": []
    },
    {
      "cell_type": "code",
      "metadata": {
        "id": "tCoAki9fwTw4"
      },
      "source": [
        "v"
      ],
      "execution_count": null,
      "outputs": []
    },
    {
      "cell_type": "markdown",
      "metadata": {
        "id": "UI92Ua1IwTw4"
      },
      "source": [
        "## Matrices"
      ]
    },
    {
      "cell_type": "code",
      "metadata": {
        "id": "lHsLXX_RwTw4"
      },
      "source": [
        "m = np.array([[5,12,6],[-3,0,14]])"
      ],
      "execution_count": null,
      "outputs": []
    },
    {
      "cell_type": "code",
      "metadata": {
        "id": "gM6GTByMwTw5"
      },
      "source": [
        "m"
      ],
      "execution_count": null,
      "outputs": []
    },
    {
      "cell_type": "markdown",
      "metadata": {
        "id": "aqepSOg9wTw5"
      },
      "source": [
        "## Data types"
      ]
    },
    {
      "cell_type": "code",
      "metadata": {
        "id": "9CZdcVa7wTw5"
      },
      "source": [
        "type(s)"
      ],
      "execution_count": null,
      "outputs": []
    },
    {
      "cell_type": "code",
      "metadata": {
        "scrolled": true,
        "id": "xpYFtxS9wTw5"
      },
      "source": [
        "type(v)"
      ],
      "execution_count": null,
      "outputs": []
    },
    {
      "cell_type": "code",
      "metadata": {
        "id": "OoKWN6PxwTw5"
      },
      "source": [
        "type(m)"
      ],
      "execution_count": null,
      "outputs": []
    },
    {
      "cell_type": "code",
      "metadata": {
        "id": "nFNmJ1OlwTw6"
      },
      "source": [
        "s_array = np.array([5])"
      ],
      "execution_count": null,
      "outputs": []
    },
    {
      "cell_type": "code",
      "metadata": {
        "id": "iP4PvhZWwTw6"
      },
      "source": [
        "type(s_array)"
      ],
      "execution_count": null,
      "outputs": []
    },
    {
      "cell_type": "markdown",
      "metadata": {
        "id": "SgjWkyT8wTw6"
      },
      "source": [
        "## Data shapes"
      ]
    },
    {
      "cell_type": "code",
      "metadata": {
        "id": "PVmZgtWuwTw7"
      },
      "source": [
        "m.shape"
      ],
      "execution_count": null,
      "outputs": []
    },
    {
      "cell_type": "code",
      "metadata": {
        "id": "8W9aUOn1wTw7"
      },
      "source": [
        "v.shape"
      ],
      "execution_count": null,
      "outputs": []
    },
    {
      "cell_type": "code",
      "metadata": {
        "scrolled": true,
        "id": "kZPBmA3NwTw7"
      },
      "source": [
        "s.shape"
      ],
      "execution_count": null,
      "outputs": []
    },
    {
      "cell_type": "code",
      "metadata": {
        "id": "IvGCdmMdwTw7"
      },
      "source": [
        "s_array.shape"
      ],
      "execution_count": null,
      "outputs": []
    },
    {
      "cell_type": "markdown",
      "metadata": {
        "id": "rTPWqx1dwTw7"
      },
      "source": [
        "## Creating a column vector"
      ]
    },
    {
      "cell_type": "code",
      "metadata": {
        "id": "qdkDvEb0wTw8"
      },
      "source": [
        "v.reshape(1,3)"
      ],
      "execution_count": null,
      "outputs": []
    },
    {
      "cell_type": "code",
      "metadata": {
        "id": "690WPWDOwTw8"
      },
      "source": [
        "v.reshape(3,1)"
      ],
      "execution_count": null,
      "outputs": []
    },
    {
      "cell_type": "code",
      "metadata": {
        "id": "8N-E94dAwTw8"
      },
      "source": [
        "m+s"
      ],
      "execution_count": null,
      "outputs": []
    },
    {
      "cell_type": "code",
      "metadata": {
        "id": "sdB3qre4wTw8"
      },
      "source": [
        "m+s_array"
      ],
      "execution_count": null,
      "outputs": []
    },
    {
      "cell_type": "code",
      "metadata": {
        "id": "5g55sCN6wTw8"
      },
      "source": [
        "v+s"
      ],
      "execution_count": null,
      "outputs": []
    },
    {
      "cell_type": "code",
      "metadata": {
        "id": "qYaiVJqTwTw9"
      },
      "source": [
        "v"
      ],
      "execution_count": null,
      "outputs": []
    },
    {
      "cell_type": "code",
      "metadata": {
        "id": "rLfvYmJdwTw9"
      },
      "source": [
        "v+s_array"
      ],
      "execution_count": null,
      "outputs": []
    },
    {
      "cell_type": "code",
      "metadata": {
        "id": "laeT7qC_wTw9"
      },
      "source": [
        "m+v"
      ],
      "execution_count": null,
      "outputs": []
    },
    {
      "cell_type": "code",
      "metadata": {
        "id": "Oh0AQ1vVwTw9"
      },
      "source": [
        ""
      ],
      "execution_count": null,
      "outputs": []
    }
  ]
}